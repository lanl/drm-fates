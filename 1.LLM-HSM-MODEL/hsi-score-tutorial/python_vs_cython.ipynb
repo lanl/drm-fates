{
 "cells": [
  {
   "cell_type": "markdown",
   "metadata": {},
   "source": [
    "## python vs cython "
   ]
  },
  {
   "cell_type": "markdown",
   "metadata": {},
   "source": [
    "Elchin Jafarov \n",
    "6/2019\n",
    "\n",
    "Here I compare the execusion time between python and cython. To generate cython (C) files copy hsiscore.py and LLM_model_class.py to the corrresponding pyx files. Create setup.py file. Run: 'python setup.py build_ext --inplace' command to create .so and .c files"
   ]
  },
  {
   "cell_type": "code",
   "execution_count": 1,
   "metadata": {
    "collapsed": false
   },
   "outputs": [],
   "source": [
    "import numpy as np\n",
    "import hsiscore_class as HSI\n",
    "import hsiscore as cy_HSI\n",
    "import LLM_model_class as llm\n",
    "import LLM_model_cpy as cy_llm\n",
    "import matplotlib.pyplot as plt\n",
    "import time\n",
    "%matplotlib inline\n",
    "hsi=HSI.hsi_score()"
   ]
  },
  {
   "cell_type": "code",
   "execution_count": 3,
   "metadata": {
    "collapsed": false
   },
   "outputs": [
    {
     "name": "stdout",
     "output_type": "stream",
     "text": [
      "no. of starting HW trees 49\n",
      "Read from fire file .....\n",
      "Read from must file .....\n",
      "no. of starting HW trees 51\n",
      "WARNING: in prob_of_use_sq, no hardwood trees older than  7 years.\n",
      "WARNING: in prob_of_use_sq, no hardwood trees older than  7 years.\n",
      "WARNING: in prob_of_use_sq, no hardwood trees older than  7 years.\n",
      "WARNING: in prob_of_use_sq, no hardwood trees older than  7 years.\n",
      "WARNING: in prob_of_use_sq, no hardwood trees older than  7 years.\n",
      "WARNING: in prob_of_use_sq, no hardwood trees older than  7 years.\n",
      "WARNING: in prob_of_use_sq, no hardwood trees older than  7 years.\n",
      "WARNING: in prob_of_use_sq, no hardwood trees older than  7 years.\n",
      "WARNING: in prob_of_use_sq, no hardwood trees older than  7 years.\n",
      "--- 63.1495811939 seconds ---\n"
     ]
    }
   ],
   "source": [
    "p = llm.LLM()     # assign p to the llm class\n",
    "p.instantiate(0)  # 1: reads input data from file, 0: generate inputs internally\n",
    "p.verbose=0\n",
    "p.run(100)\n",
    "p.save_pickle()\n",
    "\n",
    "p.instantiate(1)  # 1: reads input data from file, 0: generate inputs internally\n",
    "p.verbose=0       # 0: do not print out scores, 1: print scores on the screen\n",
    "p.readfireprobfromfile=0\n",
    "p.readmastprobfromfile=0\n",
    "start_time = time.time()\n",
    "p.run(100)\n",
    "print(\"--- %s seconds ---\" % (time.time() - start_time))"
   ]
  },
  {
   "cell_type": "code",
   "execution_count": 4,
   "metadata": {
    "collapsed": false
   },
   "outputs": [
    {
     "name": "stdout",
     "output_type": "stream",
     "text": [
      "no. of starting HW trees 55\n",
      "WARNING: in prob_of_use_sq, no hardwood trees older than  7 years.\n",
      "WARNING: in prob_of_use_sq, no hardwood trees older than  7 years.\n",
      "WARNING: in prob_of_use_sq, no hardwood trees older than  7 years.\n",
      "WARNING: in prob_of_use_sq, no hardwood trees older than  7 years.\n",
      "WARNING: in prob_of_use_sq, no hardwood trees older than  7 years.\n",
      "WARNING: in prob_of_use_sq, no hardwood trees older than  7 years.\n",
      "WARNING: in prob_of_use_sq, no hardwood trees older than  7 years.\n",
      "--- 32.5730080605 seconds ---\n"
     ]
    }
   ],
   "source": [
    "p_cy = cy_llm.LLM()     # assign p to the llm class\n",
    "p_cy.instantiate(1)  # 1: reads input data from file, 0: generate inputs internally\n",
    "p_cy.verbose=0       # 0: do not print out scores, 1: print scores on the screen\n",
    "p_cy.readfireprobfromfile=0\n",
    "p_cy.readmastprobfromfile=0\n",
    "start_time = time.time()\n",
    "p_cy.run(100)\n",
    "print(\"--- %s seconds ---\" % (time.time() - start_time))"
   ]
  },
  {
   "cell_type": "code",
   "execution_count": null,
   "metadata": {
    "collapsed": true
   },
   "outputs": [],
   "source": []
  }
 ],
 "metadata": {
  "anaconda-cloud": {},
  "kernelspec": {
   "display_name": "Python [Root]",
   "language": "python",
   "name": "Python [Root]"
  },
  "language_info": {
   "codemirror_mode": {
    "name": "ipython",
    "version": 2
   },
   "file_extension": ".py",
   "mimetype": "text/x-python",
   "name": "python",
   "nbconvert_exporter": "python",
   "pygments_lexer": "ipython2",
   "version": "2.7.12"
  }
 },
 "nbformat": 4,
 "nbformat_minor": 0
}
